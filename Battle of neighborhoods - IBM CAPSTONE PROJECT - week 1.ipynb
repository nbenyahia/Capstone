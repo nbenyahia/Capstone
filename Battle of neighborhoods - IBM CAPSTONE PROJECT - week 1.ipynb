{
 "cells": [
  {
   "cell_type": "markdown",
   "metadata": {},
   "source": [
    "# A Recommander system for restaurant "
   ]
  },
  {
   "cell_type": "markdown",
   "metadata": {},
   "source": [
    "## 1 Problem description"
   ]
  },
  {
   "cell_type": "markdown",
   "metadata": {},
   "source": [
    "### As an investor in London (or wherever it is) I want to invest my money to open a restaurant (in my project I will try to work on Indian Restaurant) so I would like to look for suggestion of the good places where I can open a good Indian restaurant using the data provided by  Foursquare. \n",
    "\n",
    "\n",
    "### The idea is focus on the venues where I can find some good Indian Restaurant in terms of Rating ( a good restaurant for me will have a rating greater or equal to 9.0/10.0) and then look for similar venues where we cannot find a similar restaurants in terms of rating and where we can avoid competition.\n"
   ]
  },
  {
   "cell_type": "markdown",
   "metadata": {},
   "source": [
    "## 2 Data we need"
   ]
  },
  {
   "cell_type": "markdown",
   "metadata": {},
   "source": [
    "### First we will need to have an idea about the city where we are goind to invest our money. In our case I will suggest London, then we will need the data about boroughs and neighborhood in London. So we will need all the postcodes, latitudes and longitudes of all boroughs and neighborhood of London. This kind of data could be find in differents websites but the one we will be using is \"www.doogal.co.uk\" where we could find a csv file of 657 boroughs and neighborhood in London.\n",
    "\n",
    "### After importing all these data, we will need to clean it and provide a dataframe of boroughs neighborhoods, latitudes and longitudes. Then this dataframe will help us to get all the venues in these boroughs and neighborhood using the Foursquare api and then it should be cleaned and use all the information we have about these venues (mostly the venues categories) to get you the best Indian Restaurant in London and to find all similar venues where we can open an Indian Restaurant there."
   ]
  },
  {
   "cell_type": "markdown",
   "metadata": {},
   "source": [
    "###### Remark :  all the details about the implementation will be precised in a notebook next week"
   ]
  },
  {
   "cell_type": "markdown",
   "metadata": {},
   "source": [
    "#### Nizar"
   ]
  }
 ],
 "metadata": {
  "kernelspec": {
   "display_name": "Python 3",
   "language": "python",
   "name": "python3"
  },
  "language_info": {
   "codemirror_mode": {
    "name": "ipython",
    "version": 2
   },
   "file_extension": ".py",
   "mimetype": "text/x-python",
   "name": "python",
   "nbconvert_exporter": "python",
   "pygments_lexer": "ipython2",
   "version": "2.7.15"
  }
 },
 "nbformat": 4,
 "nbformat_minor": 2
}
