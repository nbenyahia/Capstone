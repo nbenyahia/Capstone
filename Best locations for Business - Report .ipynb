{
 "cells": [
  {
   "cell_type": "markdown",
   "metadata": {},
   "source": [
    "# Best location for your Business "
   ]
  },
  {
   "cell_type": "markdown",
   "metadata": {},
   "source": [
    "## 1) Problem description"
   ]
  },
  {
   "cell_type": "markdown",
   "metadata": {},
   "source": [
    "In this project, the problem attempted to solve will be to find the best possible location or the most optimal, for an Indian restaurant in the city of London, United Kingdom. To achieve this task, an analytical approach will be used, based on advanced machine learning techniques and data analysis, concretely clustering and perhaps some data visualization techniques.\n",
    "\n",
    "During the process of analysis, several data transformations will be performed, in order the find the best possible data format for the machine learning model to ingest. Once the data is set up and prepared, a modeling process will be carried out, and this statistical analysis will provide the best possible places to locate the Indian restaurant.\n",
    "\n",
    "The idea is to focus on the venues where I can find some good Indian Restaurant in terms of Rating ( a good restaurant for me will have a rating greater or equal to 9.0/10.0) and then look for similar venues where we cannot find a similar restaurants in terms of rating and where we can avoid competition."
   ]
  },
  {
   "cell_type": "markdown",
   "metadata": {},
   "source": [
    "## 2) Data Presentation"
   ]
  },
  {
   "cell_type": "markdown",
   "metadata": {},
   "source": [
    "The data that will be used to develop this project is based on two sites:\n",
    "\n",
    "1. The Foursquare Api: This data will be accesed via Python, and used to obtain the most common venues per neighborhood in the city of Madrid. This way, it is possible to have a taste of how the city's venues are distributed, what are the most common places for leisure, and in general, it will provide an idea of what people's likes are.\n",
    "\n",
    "2. The www.doogal.co.uk Website: This site provides several data sources of great utility to solve this problem. The files are provided in csv format, and they are built over a statstical exploitation and use basis. The data contains updated information about the postcodes and locations of Boroughs and neighborhoods in London. This data will be analyzed in such a way that one could determine the best location of r anew venue/restaurant/other based on similarities between neighborhoods and the rating of differents restaurants."
   ]
  },
  {
   "cell_type": "markdown",
   "metadata": {},
   "source": [
    "You can access to the data via this <a href='https://www.doogal.co.uk/UKPostcodesCSV.ashx?region=E12000007'>link</a>"
   ]
  },
  {
   "cell_type": "markdown",
   "metadata": {},
   "source": [
    "## 3) Mehodology"
   ]
  },
  {
   "cell_type": "markdown",
   "metadata": {},
   "source": [
    "The methodology used to approach this problem includes some statistical exploration of the data and some visualizations. The main machine learning technic we will be using is the K-Nearest Neighbors, it will be used manually as we want to find the top 3 nearest point to a list of points of the best Indian restaurants in our data."
   ]
  },
  {
   "cell_type": "markdown",
   "metadata": {},
   "source": [
    "The first step is to import the data discussed above, clean it, select the important features and then visualize it using the folium package on the map. <br>\n",
    "This how the imported data looks like : <br>\n",
    "<img src=\"capstone/capstone0.png\" /> <br>\n",
    "This how the data looks like after the precessing : <br>\n",
    "<img src=\"capstone/capstone1.png\" /> <br>\n",
    "\n",
    "Let's visualize these locations on the map : <br>\n",
    "<img src=\"capstone/capstone2.png\" /><br>"
   ]
  },
  {
   "cell_type": "markdown",
   "metadata": {},
   "source": [
    "We now use the Foursquare API to get all the information about the venues in these locations.<br>\n",
    "<img src=\"capstone/capstone3.png\" /> <br>\n",
    "The information we got using the latitudes and longitudes of these locations doesn't include the rating of these places, the idea is to proceed by searching information by id, and then we select just the best Indian restaurants (above 9.0 in rating) :<br>\n",
    "<img src=\"capstone/capstone4.png\" />"
   ]
  },
  {
   "cell_type": "markdown",
   "metadata": {},
   "source": [
    "## K-Nearest Neighbors"
   ]
  },
  {
   "cell_type": "markdown",
   "metadata": {},
   "source": [
    "We use a one hot coding to the venue category to get the information about the type of restaurant we have in each venue and we average the result by grouping the by boroughs and neighborhoods :"
   ]
  },
  {
   "cell_type": "markdown",
   "metadata": {},
   "source": [
    "<img src=\"capstone/capstone6.png\" />"
   ]
  },
  {
   "cell_type": "markdown",
   "metadata": {},
   "source": [
    "the next step is manually calculate the distances between each neighborhood in the dataframe of the best Indian restaurant to the rest of the neighborhood where their boroughs are different from the one in the list of the chosen Indian restaurants. This help the investor to avoid competition and stay away from these good restaurants"
   ]
  },
  {
   "cell_type": "markdown",
   "metadata": {},
   "source": [
    "### Results"
   ]
  },
  {
   "cell_type": "markdown",
   "metadata": {},
   "source": [
    "After calculating the distances to these neighborhoods, we proceed by finding the 3-nearest neighboors to each one of the chosen Indian restaurants. <br>\n",
    "<img src=\"capstone/capstone7.png\" />"
   ]
  },
  {
   "cell_type": "markdown",
   "metadata": {},
   "source": [
    "We check the locations of our results on the map : <br>\n",
    "    <img src='capstone/capstone8.png' />"
   ]
  },
  {
   "cell_type": "markdown",
   "metadata": {},
   "source": [
    "## Discussion"
   ]
  },
  {
   "cell_type": "markdown",
   "metadata": {},
   "source": [
    "This approach is similar to K-Means by choosing the very high number of clusters and then choose the elements that are in the clusters of top Indian restaurants. But this one is more effective because we don't create some clusters we don't need. Another point is our method is very fast because we need to calculate the euclidean distance and get the 3 smallest values.  <br> <br>\n",
    "Our approach is not the best for this kind of problem but it still can be used in reality. We can improved more by adding some important features to our data. For example we can look for the population in each borough or neighborhood, or we can look for the number people interested in these kind of venues or restaurants (i.e. Indian people living in these regions).<br> <br>\n",
    "\n",
    "Another disadvantage, is the Foursquare API doesn't have all the data your need. Using some other data providers could improve your accuracy and add some live information about these places that can help the investor to take a decision.<br> <br>\n",
    "\n",
    "Another critics we are expecting are the results doesn't give the best choice for the investors but just suggestions of some good locations. This is true, but we all know the accuracy of these type of algorithm is not very high and the investors should proceed to other types of analysis (Budget, groceries nearby ...) to decide which one the suggestions is the best for them."
   ]
  },
  {
   "cell_type": "markdown",
   "metadata": {},
   "source": [
    "## Conclusion"
   ]
  },
  {
   "cell_type": "markdown",
   "metadata": {},
   "source": [
    "In conclusion, and taking into consideration the explanations given above as well as the data used, it is highly possibly that the results provided could be the best options for the business. But as we just said above there is a part missing and other constraints for the investors that they should take into account and make more effort before taking a decision of opening or not a new business or new restaurant in different locations."
   ]
  },
  {
   "cell_type": "markdown",
   "metadata": {},
   "source": [
    "#### NIZAR"
   ]
  }
 ],
 "metadata": {
  "kernelspec": {
   "display_name": "Python 3",
   "language": "python",
   "name": "python3"
  },
  "language_info": {
   "codemirror_mode": {
    "name": "ipython",
    "version": 2
   },
   "file_extension": ".py",
   "mimetype": "text/x-python",
   "name": "python",
   "nbconvert_exporter": "python",
   "pygments_lexer": "ipython2",
   "version": "2.7.15"
  }
 },
 "nbformat": 4,
 "nbformat_minor": 2
}
